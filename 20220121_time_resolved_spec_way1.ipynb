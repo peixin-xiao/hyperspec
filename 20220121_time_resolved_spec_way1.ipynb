{
 "cells": [
  {
   "cell_type": "code",
   "execution_count": 1,
   "id": "364f695b",
   "metadata": {
    "tags": []
   },
   "outputs": [],
   "source": [
    "# Calculate miu_a, miu_s through x*h=y, x = f(miu_a,miu_s);no deconvolution\n",
    "import pandas as pd\n",
    "from pandas import DataFrame,Series\n",
    "import numpy as np\n",
    "from io import StringIO\n",
    "import matplotlib.pyplot as plt\n",
    "# import tensorflow as tf\n",
    "# import tensorflow.keras as keras\n",
    "import math\n",
    "# from scipy.optimize import fsolve\n",
    "# from scipy.optimize import root\n",
    "from scipy.optimize import minimize\n",
    "from scipy import signal\n",
    "from scipy import linalg\n",
    "# import scipy as scp\n",
    "# import sympy as  syp\n",
    "# from tensorflow.keras import backend as K\n",
    "# from tensorflow.keras.layers import Layer\n",
    "# from tensorflow.keras.models import Sequential\n",
    "import gc"
   ]
  },
  {
   "cell_type": "code",
   "execution_count": 2,
   "id": "fb5916ed",
   "metadata": {},
   "outputs": [],
   "source": [
    "class process_hyperspec(object):\n",
    "    \n",
    "    def __init__(self, path, scat):\n",
    "        self.path = path\n",
    "        self.scat = scat\n",
    "        \n",
    "    def read_data(self):\n",
    "        ## Read data from txt\n",
    "        data=pd.read_fwf(self.path, dtype = object, header = None)## Read data as Pandas DataFrame\n",
    "        data_8 = data.loc[8,:].str[6:] ## Select data of column of wavelengths\n",
    "\n",
    "        data_nm_dataframe =pd.read_csv(StringIO(data_8[0]))\n",
    "\n",
    "        with open(self.path,'r',encoding='utf-8') as f:\n",
    "            content = f.read()\n",
    "\n",
    "        flag = 0\n",
    "        for index in range(len(content)):##find the start point  of time and intensity data, pointer is the 'index'\n",
    "            if (content[index] == '\\n') and (flag != 9):\n",
    "                flag = flag + 1\n",
    "            elif (content[index] == '\\n') and (flag == 9):\n",
    "                break\n",
    "            else:\n",
    "                continue\n",
    "\n",
    "        data_ns = pd.read_csv(StringIO(content[index:len(content)]), names = data_nm_dataframe.columns[0:len(set(data_nm_dataframe))]) ## Read data of time and gray \n",
    "        img_nm_ns = np.array(data_ns)    ## Transform to numpy array                                image as DataFrame; names is a 640x0 array indicates the wavelengths range\n",
    "        \n",
    "        self.data_frame = data_ns\n",
    "        self.data_array = img_nm_ns\n",
    "        \n",
    "    def cal_846nm(self):\n",
    "        time_total, wavelength_total = self.data_array.shape ## Generate an array contains intensity versus time data on 846nm\n",
    "        data_846nm = np.zeros((time_total,), dtype = float )\n",
    "        for i in range(wavelength_total):\n",
    "            data_846nm = self.data_array[:,i] + data_846nm\n",
    "\n",
    "        return data_846nm/wavelength_total\n",
    "    \n",
    "    def return_dataframe(self):\n",
    "        \n",
    "        return self.data_frame\n",
    "    \n",
    "    def return_array(self):\n",
    "        return self.data_array"
   ]
  },
  {
   "cell_type": "code",
   "execution_count": 3,
   "id": "4c1c21c2-35de-4167-8cb3-e123829fe85d",
   "metadata": {},
   "outputs": [
    {
     "data": {
      "text/plain": [
       "10"
      ]
     },
     "execution_count": 3,
     "metadata": {},
     "output_type": "execute_result"
    }
   ],
   "source": [
    "def name_g(i):\n",
    "    if(i<=4 and i>=0):\n",
    "        return  '0'+str(2*i+1)\n",
    "    elif(i>4):\n",
    "        return str(2*i+1)\n",
    "    else:\n",
    "        return None\n",
    "    \n",
    "\n",
    "dict1 = {i:'t5ns_scat'+ name_g(i) +'_abs_00.txt' for i in range(0, 8)}\n",
    "dict1[-1] = 'ref_real_5ns.txt'\n",
    "\n",
    "\n",
    "# print(dict1)\n",
    "\n",
    "scat = [None]*9\n",
    "data_480multi9 = np.zeros((9,480), dtype = float)\n",
    "for i in range(0,9):\n",
    "    scat[i] = process_hyperspec(dict1[i-1], i)\n",
    "    scat[i].read_data()\n",
    "    data_480multi9[i,:] = scat[i].cal_846nm()\n",
    "\n",
    "time_index = scat[0].return_dataframe().index\n",
    "# plt.figure('ns/nm')\n",
    "# for i in range(0,1):\n",
    "#     plt.plot(data_480multi9[i,:])\n",
    "    \n",
    "# plt.show()\n",
    "\n",
    "del scat, dict1, name_g, process_hyperspec\n",
    "gc.collect()"
   ]
  },
  {
   "cell_type": "code",
   "execution_count": 4,
   "id": "f681e2eb",
   "metadata": {},
   "outputs": [],
   "source": [
    "def smooth(y, box_pts):\n",
    "    box = np.ones(box_pts) / box_pts\n",
    "    y_smooth = np.convolve(y, box, mode='same')\n",
    "    return y_smooth\n",
    "\n",
    "\n",
    "\n",
    "def split_signal(y):\n",
    "    THRESHOLD_V = 0.02\n",
    "    for i in range(len(y)):\n",
    "        if y[i] > THRESHOLD_V and y[i-1] <= THRESHOLD_V:\n",
    "            index1  = i\n",
    "        elif y[i] < THRESHOLD_V and y[i-1] >= THRESHOLD_V:\n",
    "            index2 = i\n",
    "    y2 = np.zeros((index2 - index1 + 1,))\n",
    "    y2 = y[index1:index2]\n",
    "        \n",
    "    return y2, index1"
   ]
  },
  {
   "cell_type": "code",
   "execution_count": 12,
   "id": "0c5358ba-6c11-41ec-b6c8-b1ee8367280a",
   "metadata": {},
   "outputs": [],
   "source": [
    "#Generate h,y(x*h = y)\n",
    "#===================================================================================================\n",
    "data_intensity_extended = np.zeros((9, 959), dtype = float)\n",
    "data_intensity_extended[:, 0:479]  = data_480multi9[:,0:479]\n",
    "MAX = np.max(data_480multi9)\n",
    "# h = smooth(data_480multi9[0,:]/max(data_480multi9[0,:]), 10) #x*h = y ; x.shape = (480,) h.shape = (480,) y.shape = (959,)\n",
    "h = smooth(data_480multi9[0,:]/MAX, 10)\n",
    "\n",
    "y =np.zeros((9,959))\n",
    "for i in range(0,9):\n",
    "    y[i,:] = smooth(data_intensity_extended[i,:]/max(data_intensity_extended[i,:]), 10)\n",
    "    \n",
    "#======================================================================================================"
   ]
  },
  {
   "cell_type": "code",
   "execution_count": null,
   "id": "de1fae39-f934-49a1-95d1-ab4c5c8b23f9",
   "metadata": {},
   "outputs": [],
   "source": []
  },
  {
   "cell_type": "code",
   "execution_count": 6,
   "id": "3c0fa06b",
   "metadata": {},
   "outputs": [],
   "source": [
    "class calculate_miu_s(object):\n",
    "    \n",
    "    def __init__(self, h, y, time_index):\n",
    "        self.h = h\n",
    "        self.y = y\n",
    "        self.time = time_index\n",
    "        return None\n",
    "    \n",
    "    def transmittance(self, d, t, c, g, miu_a, miu_s):\n",
    "        miu_s_prime = (1-g)*miu_s\n",
    "        Z0 = 1/(miu_s_prime)\n",
    "        D = 1/(3*(miu_a + miu_s_prime))\n",
    "        h1 = math.pow(4*math.pi*D*c, -0.5)\n",
    "        h2 = math.pow(t, -1.5)*math.exp(-miu_a*c*t)\n",
    "        h3 = (d-Z0)*math.exp(-(math.pow(d-Z0, 2))/(4*D*c*t))\n",
    "        h4 = (d+Z0)*math.exp(-(math.pow(d+Z0, 2))/(4*D*c*t))\n",
    "        h5 = (3*d-Z0)*math.exp(-(math.pow(3*d-Z0, 2))/(4*D*c*t))\n",
    "        h6 = (3*d+Z0)*math.exp(-(math.pow(3*d+Z0, 2))/(4*D*c*t))\n",
    "    #     return d,Z0,D,c,t\n",
    "        return h1*h2*(h3-h4+h5-h6)\n",
    "    \n",
    "    \n",
    "    def error_cal(self, x):\n",
    "        miu_s = x[0]\n",
    "        # miu_a = x[1]\n",
    "        miu_a = 0.01e2\n",
    "        g = 0.7\n",
    "        d = 0.01\n",
    "        # t = 300e-12\n",
    "        c = 3e8/1.3314\n",
    "        T = int(480)\n",
    "#         time = np.array(range(1,T, 1))\n",
    "#         time = time*1e-8*0.010345058455114822\n",
    "        time = self.time*1e-9\n",
    "        miu_s = miu_s*1e4\n",
    "        intensity1 = np.zeros((T, ), dtype = float)\n",
    "        for i in range(time.shape[0] - 1):\n",
    "\n",
    "            intensity1[i] = calculate_miu_s.transmittance(self, d, time[i], c, g, miu_a, miu_s)\n",
    "        \n",
    "        y2 = np.convolve(intensity1, self.h)\n",
    "        self.intensity = intensity1\n",
    "        self.y_convolved = y2\n",
    "        y2 = y2/max(y2)\n",
    "        return np.sum(abs(y2-self.y))\n",
    "#         return time\n",
    "\n",
    "    def get_convolved_signal(self):\n",
    "        return self.y_convolved\n",
    "        \n",
    "    def get_x(self):\n",
    "        return self.intensity"
   ]
  },
  {
   "cell_type": "code",
   "execution_count": 32,
   "id": "7401e1b1",
   "metadata": {},
   "outputs": [
    {
     "name": "stderr",
     "output_type": "stream",
     "text": [
      "C:\\Users\\ADMINI~1\\AppData\\Local\\Temp/ipykernel_18408/2268199636.py:43: RuntimeWarning: divide by zero encountered in true_divide\n",
      "  y2 = y2/max(y2)\n",
      "C:\\Users\\ADMINI~1\\AppData\\Local\\Temp/ipykernel_18408/2268199636.py:43: RuntimeWarning: invalid value encountered in true_divide\n",
      "  y2 = y2/max(y2)\n"
     ]
    },
    {
     "name": "stdout",
     "output_type": "stream",
     "text": [
      "Warning: Maximum number of function evaluations has been exceeded.\n"
     ]
    },
    {
     "data": {
      "text/plain": [
       " final_simplex: (array([[3.33333335e-02, 2.34874099e+02],\n",
       "       [3.33333335e-02, 2.33528934e+02],\n",
       "       [3.33333335e-02, 2.33908989e+02]]), array([26.79340747, 26.80417828, 26.81156378]))\n",
       "           fun: 26.793407472201267\n",
       "       message: 'Maximum number of function evaluations has been exceeded.'\n",
       "          nfev: 401\n",
       "           nit: 214\n",
       "        status: 1\n",
       "       success: False\n",
       "             x: array([3.33333335e-02, 2.34874099e+02])"
      ]
     },
     "execution_count": 32,
     "metadata": {},
     "output_type": "execute_result"
    }
   ],
   "source": [
    "rr = calculate_miu_s(h, y[5,:], time_index)\n",
    "minimize(rr.error_cal, x0 = [0.1, 0.1], method  = 'Nelder-Mead', options={\"xtol\" : 1e-10, \"disp\":True})"
   ]
  },
  {
   "cell_type": "code",
   "execution_count": 14,
   "id": "50d815e9",
   "metadata": {},
   "outputs": [
    {
     "name": "stdout",
     "output_type": "stream",
     "text": [
      "Optimization terminated successfully.\n",
      "         Current function value: 8.482568\n",
      "         Iterations: 58\n",
      "         Function evaluations: 123\n",
      "Optimization terminated successfully.\n",
      "         Current function value: 4.427389\n",
      "         Iterations: 67\n",
      "         Function evaluations: 139\n",
      "Optimization terminated successfully.\n",
      "         Current function value: 5.761745\n",
      "         Iterations: 52\n",
      "         Function evaluations: 108\n",
      "Optimization terminated successfully.\n",
      "         Current function value: 9.096595\n",
      "         Iterations: 65\n",
      "         Function evaluations: 138\n",
      "Warning: Maximum number of function evaluations has been exceeded.\n",
      "Optimization terminated successfully.\n",
      "         Current function value: 14.444736\n",
      "         Iterations: 62\n",
      "         Function evaluations: 129\n",
      "Optimization terminated successfully.\n",
      "         Current function value: 20.341063\n",
      "         Iterations: 58\n",
      "         Function evaluations: 122\n",
      "Optimization terminated successfully.\n",
      "         Current function value: 27.045430\n",
      "         Iterations: 57\n",
      "         Function evaluations: 122\n"
     ]
    }
   ],
   "source": [
    "miu_s_get = np.zeros((8,2))\n",
    "m = [None]*8\n",
    "for i in range(1,9):\n",
    "    m[i-1] = calculate_miu_s(h, y[i], time_index)\n",
    "    miu_s_get[i-1,:] = minimize(m[i-1].error_cal, x0 = [0.6], method  = 'Nelder-Mead', options={\"xtol\" : 1e-20, \"disp\":True}).x"
   ]
  },
  {
   "cell_type": "code",
   "execution_count": 15,
   "id": "d6221b3d",
   "metadata": {},
   "outputs": [
    {
     "data": {
      "text/plain": [
       "array([[0.24549146, 0.24549146],\n",
       "       [0.46360175, 0.46360175],\n",
       "       [0.67201869, 0.67201869],\n",
       "       [0.90630461, 0.90630461],\n",
       "       [1.17425462, 1.17425462],\n",
       "       [1.38990372, 1.38990372],\n",
       "       [1.56551345, 1.56551345],\n",
       "       [1.7578158 , 1.7578158 ]])"
      ]
     },
     "execution_count": 15,
     "metadata": {},
     "output_type": "execute_result"
    }
   ],
   "source": [
    "miu_s_get"
   ]
  },
  {
   "cell_type": "code",
   "execution_count": 39,
   "id": "74e8e71e",
   "metadata": {},
   "outputs": [
    {
     "data": {
      "image/png": "[encoded data removed]",
      "text/plain": [
       "<Figure size 432x288 with 1 Axes>"
      ]
     },
     "metadata": {
      "needs_background": "light"
     },
     "output_type": "display_data"
    }
   ],
   "source": [
    "m = [None]*8\n",
    "plt.figure()\n",
    "for i in range(0,1):\n",
    "    m[i] = calculate_miu_s(h, y[i,:], time_index)\n",
    "    m[i].error_cal(miu_s_get[i])\n",
    "    plt.plot(m[i].get_x()[0:480])\n",
    "\n",
    "# m2.error_cal(x = [1.32009632, 0.83100736])\n",
    "# plt.plot(m2.get_convolved_signal())\n",
    "\n",
    "# m2.error_cal(x = [1.35795134, 0.37235146])\n",
    "\n",
    "# plt.plot(m2.get_convolved_signal())\n",
    "plt.show()\n",
    "# print(y2.shape,y.shape)"
   ]
  },
  {
   "cell_type": "code",
   "execution_count": 13,
   "id": "1103ecb6",
   "metadata": {},
   "outputs": [
    {
     "data": {
      "image/png": "[encoded data removed]",
      "text/plain": [
       "<Figure size 432x288 with 1 Axes>"
      ]
     },
     "metadata": {
      "needs_background": "light"
     },
     "output_type": "display_data"
    }
   ],
   "source": [
    "for i in range(1,9):\n",
    "    plt.plot(y[i,:])\n",
    "    \n",
    "plt.show()"
   ]
  },
  {
   "cell_type": "code",
   "execution_count": 35,
   "id": "8d4ed3e7",
   "metadata": {},
   "outputs": [],
   "source": [
    "miu_s_get = np.array([[0.24,0.64],[0.56,0.91],[0.85,0.81],[1.24,0.79],[1.27,0.31],[1.51,0.30],[1.76,0.29],[2.44,0.51]])"
   ]
  },
  {
   "cell_type": "code",
   "execution_count": 36,
   "id": "7396582a",
   "metadata": {},
   "outputs": [
    {
     "data": {
      "image/png": "[encoded data removed]",
      "text/plain": [
       "<Figure size 432x288 with 1 Axes>"
      ]
     },
     "metadata": {
      "needs_background": "light"
     },
     "output_type": "display_data"
    }
   ],
   "source": [
    "plt.figure()\n",
    "plt.plot(miu_s_get[:,0])\n",
    "plt.plot(miu_s_get[:,1])\n",
    "plt.show()"
   ]
  },
  {
   "cell_type": "code",
   "execution_count": 85,
   "id": "4cad028d",
   "metadata": {},
   "outputs": [],
   "source": []
  },
  {
   "cell_type": "code",
   "execution_count": null,
   "id": "49f8149f",
   "metadata": {},
   "outputs": [],
   "source": []
  }
 ],
 "metadata": {
  "kernelspec": {
   "display_name": "Python [conda env:tensorflow] *",
   "language": "python",
   "name": "conda-env-tensorflow-py"
  },
  "language_info": {
   "codemirror_mode": {
    "name": "ipython",
    "version": 3
   },
   "file_extension": ".py",
   "mimetype": "text/x-python",
   "name": "python",
   "nbconvert_exporter": "python",
   "pygments_lexer": "ipython3",
   "version": "3.8.12"
  }
 },
 "nbformat": 4,
 "nbformat_minor": 5
}
