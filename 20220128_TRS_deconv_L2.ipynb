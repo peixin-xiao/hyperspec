{
 "cells": [
  {
   "cell_type": "code",
   "execution_count": 1,
   "id": "b466a8cf-4f5c-4900-b054-32f236f0d5fa",
   "metadata": {},
   "outputs": [],
   "source": [
    "# import tensorflow as tf\n",
    "import numpy as np\n",
    "import matplotlib.pyplot as plt\n",
    "import pandas as pd\n",
    "from pandas import DataFrame,Series\n",
    "from io import StringIO\n",
    "import math\n",
    "import gc\n",
    "from scipy import linalg"
   ]
  },
  {
   "cell_type": "code",
   "execution_count": 2,
   "id": "ede44f27-fa84-4b51-b57f-e5eb4c39b76a",
   "metadata": {},
   "outputs": [],
   "source": [
    "class process_hyperspec(object):\n",
    "    \n",
    "    def __init__(self, path, scat):\n",
    "        self.path = path\n",
    "        self.scat = scat\n",
    "        \n",
    "    def read_data(self):\n",
    "        ## Read data from txt\n",
    "        data=pd.read_fwf(self.path, dtype = object, header = None)## Read data as Pandas DataFrame\n",
    "        data_8 = data.loc[8,:].str[6:] ## Select data of column of wavelengths\n",
    "\n",
    "        data_nm_dataframe =pd.read_csv(StringIO(data_8[0]))\n",
    "\n",
    "        with open(self.path,'r',encoding='utf-8') as f:\n",
    "            content = f.read()\n",
    "\n",
    "        flag = 0\n",
    "        for index in range(len(content)):##find the start point  of time and intensity data, pointer is the 'index'\n",
    "            if (content[index] == '\\n') and (flag != 9):\n",
    "                flag = flag + 1\n",
    "            elif (content[index] == '\\n') and (flag == 9):\n",
    "                break\n",
    "            else:\n",
    "                continue\n",
    "\n",
    "        data_ns = pd.read_csv(StringIO(content[index:len(content)]), names = data_nm_dataframe.columns[0:len(set(data_nm_dataframe))]) ## Read data of time and gray \n",
    "        img_nm_ns = np.array(data_ns)    ## Transform to numpy array                                image as DataFrame; names is a 640x0 array indicates the wavelengths range\n",
    "        \n",
    "        self.data_frame = data_ns\n",
    "        self.data_array = img_nm_ns\n",
    "        \n",
    "    def cal_846nm(self):\n",
    "        time_total, wavelength_total = self.data_array.shape ## Generate an array contains intensity versus time data on 846nm\n",
    "        data_846nm = np.zeros((time_total,), dtype = float )\n",
    "        for i in range(wavelength_total):\n",
    "            data_846nm = self.data_array[:,i] + data_846nm\n",
    "\n",
    "        return data_846nm/wavelength_total\n",
    "    \n",
    "    def return_dataframe(self):\n",
    "        \n",
    "        return self.data_frame\n",
    "    \n",
    "    def return_array(self):\n",
    "        return self.data_array"
   ]
  },
  {
   "cell_type": "code",
   "execution_count": 3,
   "id": "9cb6750a-baf8-470f-b1bc-76c74263b9e2",
   "metadata": {},
   "outputs": [
    {
     "data": {
      "text/plain": [
       "10"
      ]
     },
     "execution_count": 3,
     "metadata": {},
     "output_type": "execute_result"
    }
   ],
   "source": [
    "def name_g(i):\n",
    "    if(i<=4 and i>=0):\n",
    "        return  '0'+str(2*i+1)\n",
    "    elif(i>4):\n",
    "        return str(2*i+1)\n",
    "    else:\n",
    "        return None\n",
    "    \n",
    "\n",
    "dict1 = {i:'t5ns_scat'+ name_g(i) +'_abs_00.txt' for i in range(0, 8)}\n",
    "dict1[-1] = 'ref_real_5ns.txt'\n",
    "\n",
    "\n",
    "# print(dict1)\n",
    "\n",
    "scat = [None]*9\n",
    "data_480multi9 = np.zeros((9,480), dtype = float)\n",
    "for i in range(0,9):\n",
    "    scat[i] = process_hyperspec(dict1[i-1], i)\n",
    "    scat[i].read_data()\n",
    "    data_480multi9[i,:] = scat[i].cal_846nm()\n",
    "\n",
    "# time_index = scat[0].return_dataframe().index\n",
    "# plt.figure('ns/nm')\n",
    "# for i in range(0,9):\n",
    "#     plt.plot(data_480multi9[i,:])\n",
    "    \n",
    "# plt.show()\n",
    "del scat, dict1, name_g, process_hyperspec\n",
    "gc.collect()"
   ]
  },
  {
   "cell_type": "code",
   "execution_count": 5,
   "id": "add323b8-a79a-4f63-a301-1875b28526bb",
   "metadata": {},
   "outputs": [],
   "source": [
    "def smooth(y, box_pts):\n",
    "    box = np.ones(box_pts) / box_pts\n",
    "    y_smooth = np.convolve(y, box, mode='same')\n",
    "    return y_smooth\n",
    "\n",
    "\n",
    "\n",
    "def split_signal(y):\n",
    "    THRESHOLD_V = 0.02\n",
    "    for i in range(len(y)):\n",
    "        if y[i] > THRESHOLD_V and y[i-1] <= THRESHOLD_V:\n",
    "            index1  = i\n",
    "        elif y[i] < THRESHOLD_V and y[i-1] >= THRESHOLD_V:\n",
    "            index2 = i\n",
    "    y2 = np.zeros((index2 - index1 + 1,))\n",
    "    y2 = y[index1:index2]\n",
    "        \n",
    "    return y2, index1\n",
    "\n",
    "#Generate h,y(x*h = y)\n",
    "#===================================================================================================\n",
    "# data_intensity_extended = np.zeros((9, 959), dtype = float)\n",
    "data_intensity_extended = np.zeros((9, 959), dtype = float)\n",
    "data_intensity_extended[:, 0:479]  = data_480multi9[:,0:479]\n",
    "MAX = np.max(data_480multi9)\n",
    "# h = smooth(data_480multi9[0,:]/max(data_480multi9[0,:]), 10) #ft*gt = qt ; ft.shape = (480,) gt.shape = (480,) qt.shape = (959,)\n",
    "x = smooth(data_480multi9[0,:]/MAX, 10)\n",
    "\n",
    "y =np.zeros((9,959))\n",
    "for i in range(0,9):\n",
    "    y[i,:] = smooth(data_intensity_extended[i,:]/MAX, 10)\n",
    "    \n",
    "#======================================================================================================"
   ]
  },
  {
   "cell_type": "code",
   "execution_count": null,
   "id": "b0512b83-16d3-4e8d-98cd-0a0c878be729",
   "metadata": {},
   "outputs": [],
   "source": []
  },
  {
   "cell_type": "code",
   "execution_count": 187,
   "id": "b3a65bd3-f2fe-4d20-86db-3fc2f5756cea",
   "metadata": {},
   "outputs": [],
   "source": [
    "M = 25\n",
    "a = 0.01\n",
    "LENGTH = 480\n",
    "eye = np.eye(M+1)\n",
    "L = np.zeros((M+1, LENGTH))\n",
    "t = np.arange(LENGTH)\n",
    "for j in range(M+1):\n",
    "    L[j,:] = np.polynomial.laguerre.Laguerre(coef = eye[j,:], domain = [0,LENGTH-1], window = [0,(LENGTH-1)*a])(t)\n",
    "    "
   ]
  },
  {
   "cell_type": "code",
   "execution_count": 188,
   "id": "e27a2fb6-035d-48be-a8c0-1711f7dec95a",
   "metadata": {},
   "outputs": [
    {
     "name": "stdout",
     "output_type": "stream",
     "text": [
      "[   42359.93639126  -492804.25010759  2422549.78056311 -6305883.77363688\n",
      "  8462769.21024626 -3076456.38432227 -5717990.7072055   4295607.47261892\n",
      "  5124415.48614366 -3468986.0844382  -5770110.04367652  1481221.61054533\n",
      "  6308290.50814788  1305465.40754864 -5806803.4657872  -4100131.70813477\n",
      "  4192878.35539444  6126121.39993668 -2397420.77774341 -7380183.26974337\n",
      "  2282398.72032222  8329117.82067299 -8933622.58260255  3630397.71079117\n",
      "  -553200.34580144]\n"
     ]
    }
   ],
   "source": [
    "Ln = M\n",
    "v = np.zeros((959, Ln))\n",
    "for i in range(Ln):\n",
    "    v[:, i] = np.convolve(x, L[i,:])\n",
    "\n",
    "k = 1\n",
    "c = np.linalg.lstsq(v, y[k,:], rcond=None)[0]\n",
    "\n",
    "h = np.polynomial.laguerre.Laguerre(coef = c, domain = [0,LENGTH-1], window = [0,(LENGTH-1)*a])(t)\n",
    "\n",
    "print(c)"
   ]
  },
  {
   "cell_type": "code",
   "execution_count": 194,
   "id": "9f64ba42-3d94-4380-aa14-99e95f839d6d",
   "metadata": {},
   "outputs": [
    {
     "data": {
      "image/png": "[encoded data removed]",
      "text/plain": [
       "<Figure size 1080x360 with 3 Axes>"
      ]
     },
     "metadata": {},
     "output_type": "display_data"
    }
   ],
   "source": [
    "plt.figure(figsize = (15, 5))\n",
    "# plt.style.use('dark_background')\n",
    "plt.style.use('Solarize_Light2')\n",
    "plt.subplot(1,3,1)\n",
    "# plt.plot(np.convolve(h, x))\n",
    "plt.plot(y[k,:])\n",
    "plt.subplot(1,3,2)\n",
    "plt.plot(h)\n",
    "plt.subplot(1,3,3)\n",
    "plt.plot(x)\n",
    "plt.show()"
   ]
  },
  {
   "cell_type": "code",
   "execution_count": null,
   "id": "4b182e8d-8632-45eb-9880-691186103b5c",
   "metadata": {},
   "outputs": [],
   "source": []
  }
 ],
 "metadata": {
  "kernelspec": {
   "display_name": "Python [conda env:tensorflow] *",
   "language": "python",
   "name": "conda-env-tensorflow-py"
  },
  "language_info": {
   "codemirror_mode": {
    "name": "ipython",
    "version": 3
   },
   "file_extension": ".py",
   "mimetype": "text/x-python",
   "name": "python",
   "nbconvert_exporter": "python",
   "pygments_lexer": "ipython3",
   "version": "3.8.12"
  }
 },
 "nbformat": 4,
 "nbformat_minor": 5
}
